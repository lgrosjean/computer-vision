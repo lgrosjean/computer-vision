{
 "cells": [
  {
   "cell_type": "markdown",
   "metadata": {},
   "source": [
    "Source: https://www.learnopencv.com/keras-tutorial-fine-tuning-using-pre-trained-models/"
   ]
  },
  {
   "cell_type": "markdown",
   "metadata": {},
   "source": [
    "# Setting up"
   ]
  },
  {
   "cell_type": "code",
   "execution_count": 1,
   "metadata": {},
   "outputs": [
    {
     "name": "stderr",
     "output_type": "stream",
     "text": [
      "C:\\Anaconda3\\lib\\site-packages\\h5py\\__init__.py:36: FutureWarning: Conversion of the second argument of issubdtype from `float` to `np.floating` is deprecated. In future, it will be treated as `np.float64 == np.dtype(float).type`.\n",
      "  from ._conv import register_converters as _register_converters\n"
     ]
    }
   ],
   "source": [
    "import os\n",
    "import sys\n",
    "import shutil\n",
    "\n",
    "import numpy as np\n",
    "\n",
    "import cv2\n",
    "\n",
    "import matplotlib.pyplot as plt\n",
    "import matplotlib.image as mpimg\n",
    "\n",
    "import tensorflow as tf\n",
    "\n",
    "# progress bar\n",
    "#  from tqdm import tqdm_notebook"
   ]
  },
  {
   "cell_type": "markdown",
   "metadata": {},
   "source": [
    "# Checking local devices available"
   ]
  },
  {
   "cell_type": "code",
   "execution_count": 2,
   "metadata": {},
   "outputs": [
    {
     "data": {
      "text/plain": [
       "'/device:GPU:0'"
      ]
     },
     "execution_count": 2,
     "metadata": {},
     "output_type": "execute_result"
    }
   ],
   "source": [
    "tf.test.gpu_device_name()"
   ]
  },
  {
   "cell_type": "code",
   "execution_count": 3,
   "metadata": {},
   "outputs": [
    {
     "data": {
      "text/plain": [
       "[name: \"/device:CPU:0\"\n",
       " device_type: \"CPU\"\n",
       " memory_limit: 268435456\n",
       " locality {\n",
       " }\n",
       " incarnation: 9649502733169424403, name: \"/device:GPU:0\"\n",
       " device_type: \"GPU\"\n",
       " memory_limit: 1468914073\n",
       " locality {\n",
       "   bus_id: 1\n",
       "   links {\n",
       "   }\n",
       " }\n",
       " incarnation: 477089792665385642\n",
       " physical_device_desc: \"device: 0, name: GeForce GTX 850M, pci bus id: 0000:01:00.0, compute capability: 5.0\"]"
      ]
     },
     "execution_count": 3,
     "metadata": {},
     "output_type": "execute_result"
    }
   ],
   "source": [
    "from tensorflow.python.client import device_lib\n",
    "device_lib.list_local_devices()"
   ]
  },
  {
   "cell_type": "code",
   "execution_count": 4,
   "metadata": {},
   "outputs": [],
   "source": [
    "GITHUB_PATH = \"..\"\n",
    "DL_PATH = os.path.join(GITHUB_PATH, \"deep-learning\")\n",
    "SCRAPING_PATH = os.path.join(DL_PATH, \"scraping\")\n",
    "GG_PATH = os.path.join(SCRAPING_PATH, \"google_images\")\n",
    "IMAGES_PATH = os.path.join(GG_PATH, \"download\")\n",
    "\n",
    "DATASET_PATH = os.path.join(DL_PATH, \"datasets\")"
   ]
  },
  {
   "cell_type": "markdown",
   "metadata": {},
   "source": [
    "# Train/test split"
   ]
  },
  {
   "cell_type": "code",
   "execution_count": 5,
   "metadata": {},
   "outputs": [],
   "source": [
    "classes = [dir_ for dir_ in os.listdir(IMAGES_PATH) if dir_ != \".ipynb_checkpoints\"]\n",
    "n_classes = len(classes)"
   ]
  },
  {
   "cell_type": "code",
   "execution_count": 6,
   "metadata": {},
   "outputs": [
    {
     "name": "stdout",
     "output_type": "stream",
     "text": [
      "['cat', 'dog']\n",
      "2\n"
     ]
    }
   ],
   "source": [
    "print(classes)\n",
    "print(n_classes)"
   ]
  },
  {
   "cell_type": "code",
   "execution_count": 68,
   "metadata": {},
   "outputs": [],
   "source": [
    "def train_test_split(test_ratio=0.2, data_input_path=IMAGES_PATH, data_output_path = DATASET_PATH):\n",
    "    \n",
    "    # Creating the train and test folders if they dont exist yer\n",
    "    train_path =\"train\"\n",
    "    test_path = \"test\"\n",
    "    paths = [train_path, test_path]\n",
    "    for path in paths:\n",
    "        data_path = os.path.join(data_output_path, path)\n",
    "        if not os.path.exists(data_path):\n",
    "            print(\"[MKDIR] {} folder created.\".format(path))\n",
    "            os.makedirs(data_path)\n",
    "    \n",
    "    for dir_ in os.listdir(data_input_path):\n",
    "        if dir_ != \".ipynb_checkpoints\":\n",
    "            print(\"[{}] starting...\".format(dir_))\n",
    "            \n",
    "            for path in paths:\n",
    "                class_path = os.path.join(data_output_path, path, dir_)\n",
    "                if not os.path.exists(class_path):\n",
    "                    os.makedirs(class_path)\n",
    "            \n",
    "            dir_path = os.path.join(data_input_path, dir_)\n",
    "            class_img = os.listdir(dir_path).copy()\n",
    "            np.random.shuffle(class_img)\n",
    "            train_size = int(len(class_img) * (1 - test_ratio))\n",
    "            class_train = class_img[:train_size]\n",
    "            class_test = class_img[train_size:]\n",
    "            \n",
    "            dir_path = os.path.join(data_input_path, dir_)\n",
    "            \n",
    "            # copy train files\n",
    "            train_path_ = os.path.join(data_output_path, train_path)\n",
    "            train_path_dir = os.path.join(train_path_, dir_)\n",
    "            print(\"[{}] train copy starting...\".format(dir_))\n",
    "            for img in tqdm_notebook(class_train):\n",
    "                img_path_src = os.path.join(dir_path, img)\n",
    "                img_path_dst = os.path.join(train_path_dir, img)\n",
    "                shutil.copyfile(img_path_src, img_path_dst)\n",
    "            print(\"[{}] train copy ended.\".format(dir_))\n",
    "            \n",
    "            # copy test files\n",
    "            test_path_ = os.path.join(data_output_path, test_path)\n",
    "            test_path_dir = os.path.join(test_path_, dir_)\n",
    "            print(\"[{}] test copy starting...\".format(dir_))\n",
    "            for img in tqdm_notebook(class_test):\n",
    "                img_path_src = os.path.join(dir_path, img)\n",
    "                img_path_dst = os.path.join(test_path_dir, img)\n",
    "                shutil.copyfile(img_path_src, img_path_dst)\n",
    "            print(\"[{}] train copy ended.\".format(dir_))\n",
    "        \n",
    "    print(\"All train and test copy files finished.\")          \n",
    "    "
   ]
  },
  {
   "cell_type": "code",
   "execution_count": 69,
   "metadata": {},
   "outputs": [
    {
     "name": "stdout",
     "output_type": "stream",
     "text": [
      "[MKDIR] train folder created.\n",
      "[MKDIR] test folder created.\n",
      "[cat] starting...\n",
      "[cat] train copy starting...\n"
     ]
    },
    {
     "data": {
      "application/vnd.jupyter.widget-view+json": {
       "model_id": "710382e0ff454161bf3d3de0ff32396d",
       "version_major": 2,
       "version_minor": 0
      },
      "text/plain": [
       "HBox(children=(IntProgress(value=0, max=332), HTML(value='')))"
      ]
     },
     "metadata": {},
     "output_type": "display_data"
    },
    {
     "name": "stdout",
     "output_type": "stream",
     "text": [
      "\n",
      "[cat] train copy ended.\n",
      "[cat] test copy starting...\n"
     ]
    },
    {
     "data": {
      "application/vnd.jupyter.widget-view+json": {
       "model_id": "42c0d53d3a514da398ecc87b4a1a55e1",
       "version_major": 2,
       "version_minor": 0
      },
      "text/plain": [
       "HBox(children=(IntProgress(value=0, max=83), HTML(value='')))"
      ]
     },
     "metadata": {},
     "output_type": "display_data"
    },
    {
     "name": "stdout",
     "output_type": "stream",
     "text": [
      "\n",
      "[cat] train copy ended.\n",
      "[dog] starting...\n",
      "[dog] train copy starting...\n"
     ]
    },
    {
     "data": {
      "application/vnd.jupyter.widget-view+json": {
       "model_id": "18c17bebe3b64a9a800d9a1c486bbc67",
       "version_major": 2,
       "version_minor": 0
      },
      "text/plain": [
       "HBox(children=(IntProgress(value=0, max=341), HTML(value='')))"
      ]
     },
     "metadata": {},
     "output_type": "display_data"
    },
    {
     "name": "stdout",
     "output_type": "stream",
     "text": [
      "\n",
      "[dog] train copy ended.\n",
      "[dog] test copy starting...\n"
     ]
    },
    {
     "data": {
      "application/vnd.jupyter.widget-view+json": {
       "model_id": "3d755e879ce847bbb61e32f4fead71cc",
       "version_major": 2,
       "version_minor": 0
      },
      "text/plain": [
       "HBox(children=(IntProgress(value=0, max=86), HTML(value='')))"
      ]
     },
     "metadata": {},
     "output_type": "display_data"
    },
    {
     "name": "stdout",
     "output_type": "stream",
     "text": [
      "\n",
      "[dog] train copy ended.\n",
      "All train and test copy files finished.\n"
     ]
    }
   ],
   "source": [
    "# train_test_split()"
   ]
  },
  {
   "cell_type": "markdown",
   "metadata": {},
   "source": [
    "# Loading pre-trained model"
   ]
  },
  {
   "cell_type": "code",
   "execution_count": 7,
   "metadata": {},
   "outputs": [],
   "source": [
    "image_size = (139, 139, 3)"
   ]
  },
  {
   "cell_type": "code",
   "execution_count": 8,
   "metadata": {},
   "outputs": [],
   "source": [
    "from tensorflow.keras.applications import InceptionV3\n",
    "\n",
    "from tensorflow.keras import models\n",
    "from tensorflow.keras import layers"
   ]
  },
  {
   "cell_type": "code",
   "execution_count": 9,
   "metadata": {},
   "outputs": [],
   "source": [
    "inception = InceptionV3(weights='imagenet', include_top=False, input_shape=image_size)"
   ]
  },
  {
   "cell_type": "markdown",
   "metadata": {},
   "source": [
    "# Freeze the required layers"
   ]
  },
  {
   "cell_type": "code",
   "execution_count": 10,
   "metadata": {
    "scrolled": false
   },
   "outputs": [],
   "source": [
    "n_layer_free = 1\n",
    "\n",
    "# Freeze the layers except the last 4 layers\n",
    "for layer in inception.layers[:-n_layer_free]:\n",
    "    layer.trainable = False"
   ]
  },
  {
   "cell_type": "markdown",
   "metadata": {},
   "source": [
    "# Create a new model"
   ]
  },
  {
   "cell_type": "code",
   "execution_count": 14,
   "metadata": {},
   "outputs": [],
   "source": [
    "# Create the model\n",
    "model = models.Sequential()"
   ]
  },
  {
   "cell_type": "code",
   "execution_count": 15,
   "metadata": {},
   "outputs": [],
   "source": [
    "# Add the vgg convolutional base model\n",
    "model.add(inception)"
   ]
  },
  {
   "cell_type": "code",
   "execution_count": 16,
   "metadata": {},
   "outputs": [],
   "source": [
    "# Add new layers\n",
    "model.add(layers.Flatten())\n",
    "model.add(layers.Dense(256, activation='relu'))\n",
    "model.add(layers.Dropout(0.5))\n",
    "model.add(layers.Dense(n_classes, activation='softmax'))"
   ]
  },
  {
   "cell_type": "code",
   "execution_count": 17,
   "metadata": {},
   "outputs": [
    {
     "name": "stdout",
     "output_type": "stream",
     "text": [
      "_________________________________________________________________\n",
      "Layer (type)                 Output Shape              Param #   \n",
      "=================================================================\n",
      "inception_v3 (Model)         (None, 3, 3, 2048)        21802784  \n",
      "_________________________________________________________________\n",
      "flatten_1 (Flatten)          (None, 18432)             0         \n",
      "_________________________________________________________________\n",
      "dense_2 (Dense)              (None, 256)               4718848   \n",
      "_________________________________________________________________\n",
      "dropout_1 (Dropout)          (None, 256)               0         \n",
      "_________________________________________________________________\n",
      "dense_3 (Dense)              (None, 2)                 514       \n",
      "=================================================================\n",
      "Total params: 26,522,146\n",
      "Trainable params: 4,719,362\n",
      "Non-trainable params: 21,802,784\n",
      "_________________________________________________________________\n"
     ]
    }
   ],
   "source": [
    " # Show a summary of the model. Check the number of trainable parameters\n",
    "model.summary()"
   ]
  },
  {
   "cell_type": "markdown",
   "metadata": {},
   "source": [
    "# Setup the data generators"
   ]
  },
  {
   "cell_type": "code",
   "execution_count": 18,
   "metadata": {},
   "outputs": [],
   "source": [
    "train_dir = os.path.join(DATASET_PATH, \"train\")\n",
    "test_dir = os.path.join(DATASET_PATH, \"test\")"
   ]
  },
  {
   "cell_type": "code",
   "execution_count": 19,
   "metadata": {},
   "outputs": [],
   "source": [
    "from tensorflow.keras.preprocessing.image import ImageDataGenerator"
   ]
  },
  {
   "cell_type": "code",
   "execution_count": 28,
   "metadata": {},
   "outputs": [],
   "source": [
    "train_datagen = ImageDataGenerator(\n",
    "      rescale=1./255,\n",
    "      rotation_range=20,\n",
    "      width_shift_range=0.2,\n",
    "      height_shift_range=0.2,\n",
    "      horizontal_flip=True,\n",
    "      fill_mode='nearest')\n",
    " "
   ]
  },
  {
   "cell_type": "code",
   "execution_count": 29,
   "metadata": {},
   "outputs": [],
   "source": [
    "test_datagen = ImageDataGenerator(rescale=1./255)"
   ]
  },
  {
   "cell_type": "code",
   "execution_count": 30,
   "metadata": {},
   "outputs": [],
   "source": [
    "# Change the batchsize according to your system RAM\n",
    "train_batchsize = 10\n",
    "test_batchsize = 2"
   ]
  },
  {
   "cell_type": "code",
   "execution_count": 36,
   "metadata": {},
   "outputs": [
    {
     "name": "stdout",
     "output_type": "stream",
     "text": [
      "Found 668 images belonging to 2 classes.\n"
     ]
    }
   ],
   "source": [
    "train_generator = train_datagen.flow_from_directory(\n",
    "        train_dir,\n",
    "        target_size=(image_size[0], image_size[1]),\n",
    "        batch_size=train_batchsize,\n",
    "        color_mode=\"rgb\",\n",
    "        class_mode='categorical')"
   ]
  },
  {
   "cell_type": "code",
   "execution_count": 37,
   "metadata": {},
   "outputs": [
    {
     "name": "stdout",
     "output_type": "stream",
     "text": [
      "Found 169 images belonging to 2 classes.\n"
     ]
    }
   ],
   "source": [
    "test_generator = test_datagen.flow_from_directory(\n",
    "        test_dir,\n",
    "        target_size=(image_size[0], image_size[1]),\n",
    "        batch_size=test_batchsize,\n",
    "        class_mode='categorical',\n",
    "        color_mode=\"rgb\",\n",
    "        shuffle=False)"
   ]
  },
  {
   "cell_type": "markdown",
   "metadata": {},
   "source": [
    "# Train the model"
   ]
  },
  {
   "cell_type": "code",
   "execution_count": 38,
   "metadata": {},
   "outputs": [],
   "source": [
    "from tensorflow.keras import optimizers"
   ]
  },
  {
   "cell_type": "code",
   "execution_count": 39,
   "metadata": {},
   "outputs": [],
   "source": [
    "# Compile the model\n",
    "model.compile(loss='categorical_crossentropy',\n",
    "              optimizer=optimizers.Adam(),\n",
    "              metrics=['accuracy'])"
   ]
  },
  {
   "cell_type": "code",
   "execution_count": 40,
   "metadata": {
    "scrolled": false
   },
   "outputs": [
    {
     "name": "stdout",
     "output_type": "stream",
     "text": [
      "Epoch 1/30\n",
      "50/66 [=====================>........] - ETA: 4s - loss: 4.9773 - acc: 0.5420  ETA: 12"
     ]
    },
    {
     "name": "stderr",
     "output_type": "stream",
     "text": [
      "C:\\Anaconda3\\lib\\site-packages\\PIL\\TiffImagePlugin.py:756: UserWarning: Corrupt EXIF data.  Expecting to read 4 bytes but only got 0. \n",
      "  warnings.warn(str(msg))\n"
     ]
    },
    {
     "name": "stdout",
     "output_type": "stream",
     "text": [
      "66/66 [==============================] - 23s 349ms/step - loss: 4.4532 - acc: 0.5682 - val_loss: 1.5064 - val_acc: 0.8571\n",
      "Epoch 2/30\n",
      "66/66 [==============================] - 21s 321ms/step - loss: 1.1652 - acc: 0.7144 - val_loss: 0.8532 - val_acc: 0.8810\n",
      "Epoch 3/30\n",
      "66/66 [==============================] - 20s 310ms/step - loss: 0.7043 - acc: 0.6837 - val_loss: 0.3845 - val_acc: 0.8452\n",
      "Epoch 4/30\n",
      "66/66 [==============================] - 20s 306ms/step - loss: 0.5478 - acc: 0.7398 - val_loss: 0.5324 - val_acc: 0.8750\n",
      "Epoch 5/30\n",
      "66/66 [==============================] - 20s 310ms/step - loss: 0.5301 - acc: 0.7329 - val_loss: 0.4359 - val_acc: 0.8810\n",
      "Epoch 6/30\n",
      "66/66 [==============================] - 20s 297ms/step - loss: 0.5114 - acc: 0.7560 - val_loss: 0.4288 - val_acc: 0.8750\n",
      "Epoch 7/30\n",
      "66/66 [==============================] - 20s 309ms/step - loss: 0.5119 - acc: 0.7481 - val_loss: 0.5417 - val_acc: 0.8988\n",
      "Epoch 8/30\n",
      "66/66 [==============================] - 20s 308ms/step - loss: 0.5340 - acc: 0.7307 - val_loss: 0.5085 - val_acc: 0.8810\n",
      "Epoch 9/30\n",
      "66/66 [==============================] - 20s 302ms/step - loss: 0.5315 - acc: 0.7117 - val_loss: 0.4267 - val_acc: 0.8810\n",
      "Epoch 10/30\n",
      "66/66 [==============================] - 20s 306ms/step - loss: 0.5841 - acc: 0.7474 - val_loss: 0.3972 - val_acc: 0.8929\n",
      "Epoch 11/30\n",
      "66/66 [==============================] - 20s 298ms/step - loss: 0.5074 - acc: 0.7500 - val_loss: 0.4601 - val_acc: 0.8571\n",
      "Epoch 12/30\n",
      "66/66 [==============================] - 20s 298ms/step - loss: 0.4990 - acc: 0.7761 - val_loss: 0.4576 - val_acc: 0.8690\n",
      "Epoch 13/30\n",
      "66/66 [==============================] - 19s 289ms/step - loss: 0.4845 - acc: 0.7742 - val_loss: 0.5370 - val_acc: 0.8631\n",
      "Epoch 14/30\n",
      "66/66 [==============================] - 19s 294ms/step - loss: 0.4555 - acc: 0.7773 - val_loss: 0.6434 - val_acc: 0.8571\n",
      "Epoch 15/30\n",
      "66/66 [==============================] - 18s 278ms/step - loss: 0.4438 - acc: 0.7977 - val_loss: 0.4112 - val_acc: 0.8929\n",
      "Epoch 16/30\n",
      "66/66 [==============================] - 19s 283ms/step - loss: 0.4403 - acc: 0.7845 - val_loss: 0.5755 - val_acc: 0.8988\n",
      "Epoch 17/30\n",
      "66/66 [==============================] - 20s 298ms/step - loss: 0.4333 - acc: 0.7818 - val_loss: 0.8533 - val_acc: 0.8333\n",
      "Epoch 18/30\n",
      "66/66 [==============================] - 19s 282ms/step - loss: 0.4854 - acc: 0.7701 - val_loss: 0.4961 - val_acc: 0.9048\n",
      "Epoch 19/30\n",
      "66/66 [==============================] - 19s 283ms/step - loss: 0.4745 - acc: 0.7773 - val_loss: 0.5409 - val_acc: 0.8929\n",
      "Epoch 20/30\n",
      "66/66 [==============================] - 20s 296ms/step - loss: 0.4903 - acc: 0.7671 - val_loss: 0.5243 - val_acc: 0.8810\n",
      "Epoch 21/30\n",
      "66/66 [==============================] - 19s 288ms/step - loss: 0.4243 - acc: 0.8061 - val_loss: 0.5774 - val_acc: 0.8571\n",
      "Epoch 22/30\n",
      "66/66 [==============================] - 18s 279ms/step - loss: 0.4358 - acc: 0.7958 - val_loss: 0.6300 - val_acc: 0.8750\n",
      "Epoch 23/30\n",
      "66/66 [==============================] - 20s 299ms/step - loss: 0.4784 - acc: 0.7678 - val_loss: 0.5000 - val_acc: 0.8393\n",
      "Epoch 24/30\n",
      "66/66 [==============================] - 19s 286ms/step - loss: 0.4131 - acc: 0.8106 - val_loss: 0.5682 - val_acc: 0.8810\n",
      "Epoch 25/30\n",
      "66/66 [==============================] - 18s 271ms/step - loss: 0.4529 - acc: 0.7939 - val_loss: 0.6383 - val_acc: 0.8750\n",
      "Epoch 26/30\n",
      "66/66 [==============================] - 19s 281ms/step - loss: 0.4554 - acc: 0.7750 - val_loss: 0.6293 - val_acc: 0.8810\n",
      "Epoch 27/30\n",
      "66/66 [==============================] - 19s 292ms/step - loss: 0.4273 - acc: 0.8102 - val_loss: 0.5851 - val_acc: 0.8750\n",
      "Epoch 28/30\n",
      "66/66 [==============================] - 19s 290ms/step - loss: 0.4603 - acc: 0.7970 - val_loss: 0.3918 - val_acc: 0.8393\n",
      "Epoch 29/30\n",
      "66/66 [==============================] - 19s 288ms/step - loss: 0.4231 - acc: 0.8015 - val_loss: 0.4900 - val_acc: 0.8929\n",
      "Epoch 30/30\n",
      "66/66 [==============================] - 19s 291ms/step - loss: 0.4234 - acc: 0.8152 - val_loss: 0.4513 - val_acc: 0.8750\n"
     ]
    }
   ],
   "source": [
    "# Train the model\n",
    "history = model.fit_generator(\n",
    "      train_generator,\n",
    "      steps_per_epoch=train_generator.samples//train_generator.batch_size ,\n",
    "      epochs=30,\n",
    "      validation_data=test_generator,\n",
    "      validation_steps=test_generator.samples//test_generator.batch_size,\n",
    "      verbose=1)"
   ]
  },
  {
   "cell_type": "code",
   "execution_count": null,
   "metadata": {},
   "outputs": [],
   "source": [
    "# Save the model\n",
    "model.save('griezmann_messi_v1.h5')"
   ]
  },
  {
   "cell_type": "markdown",
   "metadata": {},
   "source": [
    "# Check performance"
   ]
  },
  {
   "cell_type": "code",
   "execution_count": 42,
   "metadata": {},
   "outputs": [
    {
     "data": {
      "image/png": "[encoded data removed]",
      "text/plain": [
       "<Figure size 1296x360 with 2 Axes>"
      ]
     },
     "metadata": {},
     "output_type": "display_data"
    }
   ],
   "source": [
    "acc = history.history['acc']\n",
    "val_acc = history.history['val_acc']\n",
    "loss = history.history['loss']\n",
    "val_loss = history.history['val_loss']\n",
    " \n",
    "epochs = range(len(acc))\n",
    "\n",
    "plt.figure(figsize=(18,5))\n",
    "\n",
    "plt.subplot(121)\n",
    "plt.plot(epochs, acc, 'b', label='Training acc')\n",
    "plt.plot(epochs, val_acc, 'r', label='Validation acc')\n",
    "plt.title('Training and validation accuracy')\n",
    "plt.xlabel(\"epochs\")\n",
    "plt.legend() \n",
    "plt.subplot(122)\n",
    "plt.plot(epochs, loss, 'b', label='Training loss')\n",
    "plt.plot(epochs, val_loss, 'r', label='Validation loss')\n",
    "plt.title('Training and validation loss')\n",
    "plt.xlabel(\"epochs\")\n",
    "plt.legend()\n",
    " \n",
    "plt.show()"
   ]
  },
  {
   "cell_type": "code",
   "execution_count": 43,
   "metadata": {},
   "outputs": [],
   "source": [
    "from sklearn.metrics import classification_report, confusion_matrix"
   ]
  },
  {
   "cell_type": "code",
   "execution_count": 44,
   "metadata": {},
   "outputs": [],
   "source": [
    "def normalize_conf_mx(conf_mx):\n",
    "    row_sums = conf_mx.sum(axis=1, keepdims=True)\n",
    "    norm_conf_mx = conf_mx / row_sums\n",
    "    return norm_conf_mx"
   ]
  },
  {
   "cell_type": "code",
   "execution_count": 45,
   "metadata": {},
   "outputs": [],
   "source": [
    "def show_confusion_matrix(true_label, pred_labels):\n",
    "\n",
    "    # Create the absolute and the normalized confusion matrix\n",
    "    conf_mx = confusion_matrix(true_label, pred_labels)\n",
    "    norm_conf_mx = normalize_conf_mx(conf_mx)\n",
    "    \n",
    "    # Plot matrix\n",
    "    fig = plt.figure(figsize=(20,10))\n",
    "    ax1 = fig.add_subplot(121)\n",
    "    ax1.set_title(\"Absolute confusion matrix\")\n",
    "    cax1 = ax1.matshow(conf_mx)\n",
    "    fig.colorbar(cax1)\n",
    "    ax2 = fig.add_subplot(122)\n",
    "    ax2.set_title(\"Normalized confusion matrix\")\n",
    "    cax2 = ax2.matshow(norm_conf_mx)\n",
    "    fig.colorbar(cax2)\n",
    "    plt.show()"
   ]
  },
  {
   "cell_type": "code",
   "execution_count": 50,
   "metadata": {},
   "outputs": [
    {
     "name": "stdout",
     "output_type": "stream",
     "text": [
      "85/84 [==============================] - 4s 51ms/step\n"
     ]
    }
   ],
   "source": [
    "Y_pred = model.predict_generator(test_generator, test_generator.samples/test_generator.batch_size, verbose=1)\n",
    "y_pred = np.argmax(Y_pred, axis=1)"
   ]
  },
  {
   "cell_type": "code",
   "execution_count": 52,
   "metadata": {},
   "outputs": [
    {
     "data": {
      "image/png": "[encoded data removed]",
      "text/plain": [
       "<Figure size 1440x720 with 4 Axes>"
      ]
     },
     "metadata": {},
     "output_type": "display_data"
    }
   ],
   "source": [
    "show_confusion_matrix(test_generator.classes, y_pred)"
   ]
  },
  {
   "cell_type": "code",
   "execution_count": 53,
   "metadata": {},
   "outputs": [
    {
     "name": "stdout",
     "output_type": "stream",
     "text": [
      "             precision    recall  f1-score   support\n",
      "\n",
      "        cat       0.91      0.83      0.87        83\n",
      "        dog       0.85      0.92      0.88        86\n",
      "\n",
      "avg / total       0.88      0.88      0.88       169\n",
      "\n"
     ]
    }
   ],
   "source": [
    "target_names = classes\n",
    "print(classification_report(test_generator.classes, y_pred, target_names=target_names))"
   ]
  },
  {
   "cell_type": "code",
   "execution_count": null,
   "metadata": {},
   "outputs": [],
   "source": []
  }
 ],
 "metadata": {
  "kernelspec": {
   "display_name": "Python 3",
   "language": "python",
   "name": "python3"
  },
  "language_info": {
   "codemirror_mode": {
    "name": "ipython",
    "version": 3
   },
   "file_extension": ".py",
   "mimetype": "text/x-python",
   "name": "python",
   "nbconvert_exporter": "python",
   "pygments_lexer": "ipython3",
   "version": "3.6.5"
  }
 },
 "nbformat": 4,
 "nbformat_minor": 2
}
