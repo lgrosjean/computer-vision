{
  "nbformat": 4,
  "nbformat_minor": 0,
  "metadata": {
    "colab": {
      "name": "2_fullyconnected.ipynb",
      "version": "0.3.2",
      "provenance": [],
      "toc_visible": true
    },
    "kernelspec": {
      "name": "python3",
      "display_name": "Python 3"
    },
    "accelerator": "GPU"
  },
  "cells": [
    {
      "cell_type": "markdown",
      "metadata": {
        "id": "view-in-github",
        "colab_type": "text"
      },
      "source": [
        "[View in Colaboratory](https://colab.research.google.com/github/lgrosjean/deep-learning/blob/master/2_fullyconnected.ipynb)"
      ]
    },
    {
      "metadata": {
        "id": "YHH_7-5f6-lu",
        "colab_type": "text"
      },
      "cell_type": "markdown",
      "source": [
        "Checking if the subdirectories exist : "
      ]
    },
    {
      "metadata": {
        "id": "pJBu-8Zd5vFD",
        "colab_type": "code",
        "colab": {
          "base_uri": "https://localhost:8080/",
          "height": 34
        },
        "outputId": "5298e417-0683-4334-f134-ea36fd73f11b"
      },
      "cell_type": "code",
      "source": [
        "! ls"
      ],
      "execution_count": 5,
      "outputs": [
        {
          "output_type": "stream",
          "text": [
            "datalab  notMNIST_large  notMNIST.pickle  notMNIST_small\r\n"
          ],
          "name": "stdout"
        }
      ]
    },
    {
      "metadata": {
        "id": "bYI47LyG67kk",
        "colab_type": "text"
      },
      "cell_type": "markdown",
      "source": [
        "Checking if the GPU is working well :"
      ]
    },
    {
      "metadata": {
        "id": "vs3tnPN8656Q",
        "colab_type": "code",
        "colab": {
          "base_uri": "https://localhost:8080/",
          "height": 34
        },
        "outputId": "b5df0ac4-708e-4766-a892-1a6c007c3533"
      },
      "cell_type": "code",
      "source": [
        "import tensorflow as tf\n",
        "tf.test.gpu_device_name()"
      ],
      "execution_count": 3,
      "outputs": [
        {
          "output_type": "execute_result",
          "data": {
            "text/plain": [
              "'/device:GPU:0'"
            ]
          },
          "metadata": {
            "tags": []
          },
          "execution_count": 3
        }
      ]
    },
    {
      "metadata": {
        "id": "W-OEFNXi7T-H",
        "colab_type": "text"
      },
      "cell_type": "markdown",
      "source": [
        "Checking python version :"
      ]
    },
    {
      "metadata": {
        "id": "x_PMxf7W7Vyu",
        "colab_type": "code",
        "colab": {
          "base_uri": "https://localhost:8080/",
          "height": 34
        },
        "outputId": "8d2f4ee8-69a8-42fe-a05b-a323ebe61a7d"
      },
      "cell_type": "code",
      "source": [
        "! python --version"
      ],
      "execution_count": 7,
      "outputs": [
        {
          "output_type": "stream",
          "text": [
            "Python 3.6.3\r\n"
          ],
          "name": "stdout"
        }
      ]
    },
    {
      "metadata": {
        "id": "89D3fkfh6nN6",
        "colab_type": "text"
      },
      "cell_type": "markdown",
      "source": [
        "# Setting up the notebook"
      ]
    },
    {
      "metadata": {
        "id": "UzHwW_MZ5zfW",
        "colab_type": "code",
        "colab": {}
      },
      "cell_type": "code",
      "source": [
        "# These are all the modules we'll be using later. Make sure you can import them\n",
        "# before proceeding further.\n",
        "from __future__ import print_function\n",
        "import numpy as np\n",
        "import tensorflow as tf\n",
        "from six.moves import cPickle as pickle\n",
        "from six.moves import range"
      ],
      "execution_count": 0,
      "outputs": []
    },
    {
      "metadata": {
        "id": "46Vmp5K19gVD",
        "colab_type": "text"
      },
      "cell_type": "markdown",
      "source": [
        "# Load and reformat the data"
      ]
    },
    {
      "metadata": {
        "id": "0X2zcFli7Mim",
        "colab_type": "text"
      },
      "cell_type": "markdown",
      "source": [
        "First, reload the data generated in the first notebook :"
      ]
    },
    {
      "metadata": {
        "id": "Gez70J_z6p8L",
        "colab_type": "code",
        "colab": {
          "base_uri": "https://localhost:8080/",
          "height": 70
        },
        "outputId": "f94c7ad6-f896-4c4a-9936-d3c3fec34ae5"
      },
      "cell_type": "code",
      "source": [
        "pickle_file = 'notMNIST.pickle'\n",
        "\n",
        "with open(pickle_file, 'rb') as f:\n",
        "  save = pickle.load(f)\n",
        "  train_dataset = save['train_dataset']\n",
        "  train_labels = save['train_labels']\n",
        "  valid_dataset = save['valid_dataset']\n",
        "  valid_labels = save['valid_labels']\n",
        "  test_dataset = save['test_dataset']\n",
        "  test_labels = save['test_labels']\n",
        "  del save  # hint to help gc free up memory\n",
        "  print('Training set', train_dataset.shape, train_labels.shape)\n",
        "  print('Validation set', valid_dataset.shape, valid_labels.shape)\n",
        "  print('Test set', test_dataset.shape, test_labels.shape)"
      ],
      "execution_count": 6,
      "outputs": [
        {
          "output_type": "stream",
          "text": [
            "Training set (200000, 28, 28) (200000,)\n",
            "Validation set (10000, 28, 28) (10000,)\n",
            "Test set (10000, 28, 28) (10000,)\n"
          ],
          "name": "stdout"
        }
      ]
    },
    {
      "metadata": {
        "id": "Z2oYrtpO7m1p",
        "colab_type": "text"
      },
      "cell_type": "markdown",
      "source": [
        "\n",
        "Reformat into a shape that's more adapted to the models we're going to train:\n",
        "\n",
        "* data as a flat matrix,\n",
        "* labels as float 1-hot encodings."
      ]
    },
    {
      "metadata": {
        "id": "B1Nk14j57R0_",
        "colab_type": "code",
        "colab": {}
      },
      "cell_type": "code",
      "source": [
        "image_size = 28\n",
        "num_labels = 10"
      ],
      "execution_count": 0,
      "outputs": []
    },
    {
      "metadata": {
        "id": "4Asbqsa27sTL",
        "colab_type": "code",
        "colab": {}
      },
      "cell_type": "code",
      "source": [
        "def reformat(dataset, labels):\n",
        "  dataset = dataset.reshape((-1, image_size * image_size)).astype(np.float32)\n",
        "  # Map 0 to [1.0, 0.0, 0.0 ...], 1 to [0.0, 1.0, 0.0 ...]\n",
        "  labels = (np.arange(num_labels) == labels[:,None]).astype(np.float32)\n",
        "  return dataset, labels"
      ],
      "execution_count": 0,
      "outputs": []
    },
    {
      "metadata": {
        "id": "y8xL3w3J7t2k",
        "colab_type": "code",
        "colab": {
          "base_uri": "https://localhost:8080/",
          "height": 70
        },
        "outputId": "271635b1-b8b4-4c5b-fe46-088f962ecff8"
      },
      "cell_type": "code",
      "source": [
        "train_dataset, train_labels = reformat(train_dataset, train_labels)\n",
        "valid_dataset, valid_labels = reformat(valid_dataset, valid_labels)\n",
        "test_dataset, test_labels = reformat(test_dataset, test_labels)\n",
        "print('Training set', train_dataset.shape, train_labels.shape)\n",
        "print('Validation set', valid_dataset.shape, valid_labels.shape)\n",
        "print('Test set', test_dataset.shape, test_labels.shape)"
      ],
      "execution_count": 13,
      "outputs": [
        {
          "output_type": "stream",
          "text": [
            "Training set (200000, 784) (200000, 10)\n",
            "Validation set (10000, 784) (10000, 10)\n",
            "Test set (10000, 784) (10000, 10)\n"
          ],
          "name": "stdout"
        }
      ]
    },
    {
      "metadata": {
        "id": "HovfqBoN9lRC",
        "colab_type": "text"
      },
      "cell_type": "markdown",
      "source": [
        "# First tensorflow graphs"
      ]
    },
    {
      "metadata": {
        "id": "5TgxEEJl9o-0",
        "colab_type": "text"
      },
      "cell_type": "markdown",
      "source": [
        "## Using Gradient Descent"
      ]
    },
    {
      "metadata": {
        "id": "bF9WLGkz8DQY",
        "colab_type": "text"
      },
      "cell_type": "markdown",
      "source": [
        "We're first going to train a multinomial logistic regression using *simple gradient descent*.\n",
        "\n",
        "TensorFlow works like this:\n",
        "\n",
        "* First you describe the computation that you want to see performed: what the inputs, the variables, and the operations look like. These get created as nodes over a computation graph. This description is all contained within the block below:\n",
        "\n",
        "```\n",
        "with graph.as_default():\n",
        "    ...\n",
        "```\n",
        "    \n",
        "* Then you can run the operations on this graph as many times as you want by calling session.run(), providing it outputs to fetch from the graph that get returned. This runtime operation is all contained in the block below:\n",
        "\n",
        "```\n",
        "with tf.Session(graph=graph) as session:\n",
        "    ...\n",
        " ```\n",
        " \n",
        "Let's load all the data into TensorFlow and build the computation graph corresponding to our training:"
      ]
    },
    {
      "metadata": {
        "id": "Px4DEfB07yGE",
        "colab_type": "code",
        "colab": {}
      },
      "cell_type": "code",
      "source": [
        "# With gradient descent training, even this much data is prohibitive.\n",
        "# Subset the training data for faster turnaround.\n",
        "train_subset = 10000"
      ],
      "execution_count": 0,
      "outputs": []
    },
    {
      "metadata": {
        "id": "DaVusdkp8jXb",
        "colab_type": "code",
        "colab": {
          "base_uri": "https://localhost:8080/",
          "height": 158
        },
        "outputId": "8788f171-c37d-48f8-a03c-048eb4e3d74f"
      },
      "cell_type": "code",
      "source": [
        "graph = tf.Graph()\n",
        "with graph.as_default():\n",
        "\n",
        "  # Input data.\n",
        "  # Load the training, validation and test data into constants that are\n",
        "  # attached to the graph.\n",
        "  tf_train_dataset = tf.constant(train_dataset[:train_subset, :])\n",
        "  tf_train_labels = tf.constant(train_labels[:train_subset])\n",
        "  tf_valid_dataset = tf.constant(valid_dataset)\n",
        "  tf_test_dataset = tf.constant(test_dataset)\n",
        "  \n",
        "  # Variables.\n",
        "  # These are the parameters that we are going to be training. The weight\n",
        "  # matrix will be initialized using random values following a (truncated)\n",
        "  # normal distribution. The biases get initialized to zero.\n",
        "  weights = tf.Variable(\n",
        "    tf.truncated_normal([image_size * image_size, num_labels]))\n",
        "  biases = tf.Variable(tf.zeros([num_labels]))\n",
        "  \n",
        "  # Training computation.\n",
        "  # We multiply the inputs with the weight matrix, and add biases. We compute\n",
        "  # the softmax and cross-entropy (it's one operation in TensorFlow, because\n",
        "  # it's very common, and it can be optimized). We take the average of this\n",
        "  # cross-entropy across all training examples: that's our loss.\n",
        "  logits = tf.matmul(tf_train_dataset, weights) + biases\n",
        "  loss = tf.reduce_mean(\n",
        "    tf.nn.softmax_cross_entropy_with_logits(labels=tf_train_labels, logits=logits))\n",
        "  \n",
        "  # Optimizer.\n",
        "  # We are going to find the minimum of this loss using gradient descent.\n",
        "  optimizer = tf.train.GradientDescentOptimizer(0.5).minimize(loss)\n",
        "  \n",
        "  # Predictions for the training, validation, and test data.\n",
        "  # These are not part of training, but merely here so that we can report\n",
        "  # accuracy figures as we train.\n",
        "  train_prediction = tf.nn.softmax(logits)\n",
        "  valid_prediction = tf.nn.softmax(\n",
        "    tf.matmul(tf_valid_dataset, weights) + biases)\n",
        "  test_prediction = tf.nn.softmax(tf.matmul(tf_test_dataset, weights) + biases)"
      ],
      "execution_count": 15,
      "outputs": [
        {
          "output_type": "stream",
          "text": [
            "WARNING:tensorflow:From <ipython-input-15-c3492c18396a>:27: softmax_cross_entropy_with_logits (from tensorflow.python.ops.nn_ops) is deprecated and will be removed in a future version.\n",
            "Instructions for updating:\n",
            "\n",
            "Future major versions of TensorFlow will allow gradients to flow\n",
            "into the labels input on backprop by default.\n",
            "\n",
            "See @{tf.nn.softmax_cross_entropy_with_logits_v2}.\n",
            "\n"
          ],
          "name": "stdout"
        }
      ]
    },
    {
      "metadata": {
        "id": "_s0P424w8nBc",
        "colab_type": "code",
        "colab": {}
      },
      "cell_type": "code",
      "source": [
        "num_steps = 1001\n",
        "\n",
        "def accuracy(predictions, labels):\n",
        "  return (100.0 * np.sum(np.argmax(predictions, 1) == np.argmax(labels, 1))\n",
        "          / predictions.shape[0])"
      ],
      "execution_count": 0,
      "outputs": []
    },
    {
      "metadata": {
        "id": "Vw4kB0Xr84nV",
        "colab_type": "code",
        "colab": {
          "base_uri": "https://localhost:8080/",
          "height": 638
        },
        "outputId": "a4c21792-8bfd-4ba3-92b2-280f15970229"
      },
      "cell_type": "code",
      "source": [
        "with tf.Session(graph=graph) as session:\n",
        "  # This is a one-time operation which ensures the parameters get initialized as\n",
        "  # we described in the graph: random weights for the matrix, zeros for the\n",
        "  # biases. \n",
        "  tf.global_variables_initializer().run()\n",
        "  print('Initialized')\n",
        "  for step in range(num_steps):\n",
        "    # Run the computations. We tell .run() that we want to run the optimizer,\n",
        "    # and get the loss value and the training predictions returned as numpy\n",
        "    # arrays.\n",
        "    _, l, predictions = session.run([optimizer, loss, train_prediction])\n",
        "    if (step % 100 == 0):\n",
        "      print('Loss at step %d: %f' % (step, l))\n",
        "      print('Training accuracy: %.1f%%' % accuracy(\n",
        "        predictions, train_labels[:train_subset, :]))\n",
        "      # Calling .eval() on valid_prediction is basically like calling run(), but\n",
        "      # just to get that one numpy array. Note that it recomputes all its graph\n",
        "      # dependencies.\n",
        "      print('Validation accuracy: %.1f%%' % accuracy(\n",
        "        valid_prediction.eval(), valid_labels))\n",
        "  print('Test accuracy: %.1f%%' % accuracy(test_prediction.eval(), test_labels))"
      ],
      "execution_count": 20,
      "outputs": [
        {
          "output_type": "stream",
          "text": [
            "Initialized\n",
            "Loss at step 0: 17.641932\n",
            "Training accuracy: 8.4%\n",
            "Validation accuracy: 10.1%\n",
            "Loss at step 100: 2.331920\n",
            "Training accuracy: 71.6%\n",
            "Validation accuracy: 70.7%\n",
            "Loss at step 200: 1.881036\n",
            "Training accuracy: 74.3%\n",
            "Validation accuracy: 73.3%\n",
            "Loss at step 300: 1.628365\n",
            "Training accuracy: 75.6%\n",
            "Validation accuracy: 74.0%\n",
            "Loss at step 400: 1.458807\n",
            "Training accuracy: 76.8%\n",
            "Validation accuracy: 74.6%\n",
            "Loss at step 500: 1.332060\n",
            "Training accuracy: 77.4%\n",
            "Validation accuracy: 75.0%\n",
            "Loss at step 600: 1.232147\n",
            "Training accuracy: 78.0%\n",
            "Validation accuracy: 75.2%\n",
            "Loss at step 700: 1.151148\n",
            "Training accuracy: 78.6%\n",
            "Validation accuracy: 75.5%\n",
            "Loss at step 800: 1.084105\n",
            "Training accuracy: 79.3%\n",
            "Validation accuracy: 75.7%\n",
            "Loss at step 900: 1.027588\n",
            "Training accuracy: 79.8%\n",
            "Validation accuracy: 75.8%\n",
            "Loss at step 1000: 0.979186\n",
            "Training accuracy: 80.3%\n",
            "Validation accuracy: 76.0%\n",
            "Test accuracy: 83.0%\n"
          ],
          "name": "stdout"
        }
      ]
    },
    {
      "metadata": {
        "id": "D0yyunoh9thm",
        "colab_type": "text"
      },
      "cell_type": "markdown",
      "source": [
        "## Using Stochastic Gradient Descent"
      ]
    },
    {
      "metadata": {
        "id": "2rUqjgvm9aK1",
        "colab_type": "text"
      },
      "cell_type": "markdown",
      "source": [
        "Let's now switch to stochastic gradient descent training instead, which is much faster.\n",
        "\n",
        "The graph will be similar, except that instead of holding all the training data into a constant node, we create a `Placeholder` node which will be fed actual data at every call of `session.run()`."
      ]
    },
    {
      "metadata": {
        "id": "rw97vglc883l",
        "colab_type": "code",
        "colab": {}
      },
      "cell_type": "code",
      "source": [
        "batch_size = 128\n",
        "\n",
        "graph = tf.Graph()\n",
        "with graph.as_default():\n",
        "\n",
        "  # Input data. For the training data, we use a placeholder that will be fed\n",
        "  # at run time with a training minibatch.\n",
        "  tf_train_dataset = tf.placeholder(tf.float32,\n",
        "                                    shape=(batch_size, image_size * image_size))\n",
        "  tf_train_labels = tf.placeholder(tf.float32, shape=(batch_size, num_labels))\n",
        "  tf_valid_dataset = tf.constant(valid_dataset)\n",
        "  tf_test_dataset = tf.constant(test_dataset)\n",
        "  \n",
        "  # Variables.\n",
        "  weights = tf.Variable(\n",
        "    tf.truncated_normal([image_size * image_size, num_labels]))\n",
        "  biases = tf.Variable(tf.zeros([num_labels]))\n",
        "  \n",
        "  # Training computation.\n",
        "  logits = tf.matmul(tf_train_dataset, weights) + biases\n",
        "  loss = tf.reduce_mean(\n",
        "    tf.nn.softmax_cross_entropy_with_logits(labels=tf_train_labels, logits=logits))\n",
        "  \n",
        "  # Optimizer.\n",
        "  optimizer = tf.train.GradientDescentOptimizer(0.5).minimize(loss)\n",
        "  \n",
        "  # Predictions for the training, validation, and test data.\n",
        "  train_prediction = tf.nn.softmax(logits)\n",
        "  valid_prediction = tf.nn.softmax(\n",
        "    tf.matmul(tf_valid_dataset, weights) + biases)\n",
        "  test_prediction = tf.nn.softmax(tf.matmul(tf_test_dataset, weights) + biases)"
      ],
      "execution_count": 0,
      "outputs": []
    },
    {
      "metadata": {
        "id": "WzZUay9P9_1e",
        "colab_type": "code",
        "colab": {
          "base_uri": "https://localhost:8080/",
          "height": 425
        },
        "outputId": "f6913584-49d3-49b8-cc48-9144826534f2"
      },
      "cell_type": "code",
      "source": [
        "num_steps = 3001\n",
        "\n",
        "with tf.Session(graph=graph) as session:\n",
        "  tf.global_variables_initializer().run()\n",
        "  print(\"Initialized\")\n",
        "  for step in range(num_steps):\n",
        "    # Pick an offset within the training data, which has been randomized.\n",
        "    # Note: we could use better randomization across epochs.\n",
        "    offset = (step * batch_size) % (train_labels.shape[0] - batch_size)\n",
        "    # Generate a minibatch.\n",
        "    batch_data = train_dataset[offset:(offset + batch_size), :]\n",
        "    batch_labels = train_labels[offset:(offset + batch_size), :]\n",
        "    # Prepare a dictionary telling the session where to feed the minibatch.\n",
        "    # The key of the dictionary is the placeholder node of the graph to be fed,\n",
        "    # and the value is the numpy array to feed to it.\n",
        "    feed_dict = {tf_train_dataset : batch_data, tf_train_labels : batch_labels}\n",
        "    _, l, predictions = session.run(\n",
        "      [optimizer, loss, train_prediction], feed_dict=feed_dict)\n",
        "    if (step % 500 == 0):\n",
        "      print(\"Minibatch loss at step %d: %f\" % (step, l))\n",
        "      print(\"Minibatch accuracy: %.1f%%\" % accuracy(predictions, batch_labels))\n",
        "      print(\"Validation accuracy: %.1f%%\" % accuracy(\n",
        "        valid_prediction.eval(), valid_labels))\n",
        "  print(\"Test accuracy: %.1f%%\" % accuracy(test_prediction.eval(), test_labels))"
      ],
      "execution_count": 22,
      "outputs": [
        {
          "output_type": "stream",
          "text": [
            "Initialized\n",
            "Minibatch loss at step 0: 17.719002\n",
            "Minibatch accuracy: 9.4%\n",
            "Validation accuracy: 10.7%\n",
            "Minibatch loss at step 500: 1.555923\n",
            "Minibatch accuracy: 78.1%\n",
            "Validation accuracy: 76.7%\n",
            "Minibatch loss at step 1000: 1.446571\n",
            "Minibatch accuracy: 76.6%\n",
            "Validation accuracy: 76.9%\n",
            "Minibatch loss at step 1500: 0.995238\n",
            "Minibatch accuracy: 78.1%\n",
            "Validation accuracy: 77.3%\n",
            "Minibatch loss at step 2000: 0.889710\n",
            "Minibatch accuracy: 83.6%\n",
            "Validation accuracy: 78.3%\n",
            "Minibatch loss at step 2500: 0.688477\n",
            "Minibatch accuracy: 82.8%\n",
            "Validation accuracy: 79.0%\n",
            "Minibatch loss at step 3000: 0.980553\n",
            "Minibatch accuracy: 78.1%\n",
            "Validation accuracy: 78.9%\n",
            "Test accuracy: 86.1%\n"
          ],
          "name": "stdout"
        }
      ]
    },
    {
      "metadata": {
        "id": "QLtDJpgv-Qce",
        "colab_type": "text"
      },
      "cell_type": "markdown",
      "source": [
        "# Problem : adding one hidden layer"
      ]
    },
    {
      "metadata": {
        "id": "Mmf3LEi1-Vmo",
        "colab_type": "text"
      },
      "cell_type": "markdown",
      "source": [
        "Now, let's turn the logistic regression example with SGD into a 1-hidden layer neural network with rectified linear units nn.relu() and 1024 hidden nodes. This model should improve the validation / test accuracy.\n"
      ]
    },
    {
      "metadata": {
        "id": "qh7J62DW-DsF",
        "colab_type": "code",
        "colab": {}
      },
      "cell_type": "code",
      "source": [
        "n_hidden = 1024 "
      ],
      "execution_count": 0,
      "outputs": []
    },
    {
      "metadata": {
        "id": "to1wOfwRDE4o",
        "colab_type": "code",
        "colab": {}
      },
      "cell_type": "code",
      "source": [
        "batch_size = 128\n",
        "\n",
        "graph = tf.Graph()\n",
        "with graph.as_default():\n",
        "\n",
        "  # Input data. For the training data, we use a placeholder that will be fed\n",
        "  # at run time with a training minibatch.\n",
        "  tf_train_dataset = tf.placeholder(tf.float32,\n",
        "                                    shape=(batch_size, image_size * image_size))\n",
        "  tf_train_labels = tf.placeholder(tf.float32, shape=(batch_size, num_labels))\n",
        "  tf_valid_dataset = tf.constant(valid_dataset)\n",
        "  tf_test_dataset = tf.constant(test_dataset)\n",
        "  \n",
        "   # Variables for hidden layer\n",
        "  weights_h = tf.Variable(\n",
        "    tf.truncated_normal([image_size * image_size, n_hidden]))\n",
        "  biases_h = tf.Variable(tf.zeros([n_hidden]))\n",
        "  \n",
        "  # Variables for logits\n",
        "  weights = tf.Variable(\n",
        "    tf.truncated_normal([n_hidden, num_labels]))\n",
        "  biases = tf.Variable(tf.zeros([num_labels]))\n",
        "  \n",
        "  # Training computation.\n",
        "  logits_h = tf.matmul(tf_train_dataset, weights_h) + biases_h\n",
        "  h = tf.nn.relu(logits_h)\n",
        "  logits = tf.matmul(h, weights) + biases\n",
        "  \n",
        "  loss = tf.reduce_mean(\n",
        "    tf.nn.softmax_cross_entropy_with_logits(labels=tf_train_labels, logits=logits))\n",
        "  \n",
        "  # Optimizer.\n",
        "  optimizer = tf.train.GradientDescentOptimizer(0.5).minimize(loss)\n",
        "  \n",
        "  # Predictions for the training, validation, and test data.\n",
        "  train_prediction = tf.nn.softmax(logits)"
      ],
      "execution_count": 0,
      "outputs": []
    },
    {
      "metadata": {
        "id": "acJ7A5t9EFF_",
        "colab_type": "code",
        "colab": {}
      },
      "cell_type": "code",
      "source": [
        "valid_pred_h = tf.nn.relu(tf.matmul(tf_valid_dataset, weights_h) + biases_h)\n",
        "valid_prediction = tf.nn.softmax(\n",
        "    tf.matmul(valid_pred_h, weights) + biases)"
      ],
      "execution_count": 0,
      "outputs": []
    },
    {
      "metadata": {
        "id": "HpeSIQV4HMl2",
        "colab_type": "code",
        "colab": {}
      },
      "cell_type": "code",
      "source": [
        "test_pred_h = tf.nn.relu(tf.matmul(tf_test_dataset, weights_h) + biases_h)\n",
        "test_prediction = tf.nn.softmax(\n",
        "    tf.matmul(test_pred_h, weights) + biases)"
      ],
      "execution_count": 0,
      "outputs": []
    },
    {
      "metadata": {
        "id": "9A6mAjoWHWLl",
        "colab_type": "code",
        "colab": {
          "base_uri": "https://localhost:8080/",
          "height": 425
        },
        "outputId": "5bf79ca6-4c0e-4ce0-b85d-c8779cd19ad9"
      },
      "cell_type": "code",
      "source": [
        "num_steps = 3001\n",
        "\n",
        "with tf.Session(graph=graph) as session:\n",
        "  tf.global_variables_initializer().run()\n",
        "  print(\"Initialized\")\n",
        "  for step in range(num_steps):\n",
        "    # Pick an offset within the training data, which has been randomized.\n",
        "    # Note: we could use better randomization across epochs.\n",
        "    offset = (step * batch_size) % (train_labels.shape[0] - batch_size)\n",
        "    # Generate a minibatch.\n",
        "    batch_data = train_dataset[offset:(offset + batch_size), :]\n",
        "    batch_labels = train_labels[offset:(offset + batch_size), :]\n",
        "    # Prepare a dictionary telling the session where to feed the minibatch.\n",
        "    # The key of the dictionary is the placeholder node of the graph to be fed,\n",
        "    # and the value is the numpy array to feed to it.\n",
        "    feed_dict = {tf_train_dataset : batch_data, tf_train_labels : batch_labels}\n",
        "    _, l, predictions = session.run(\n",
        "      [optimizer, loss, train_prediction], feed_dict=feed_dict)\n",
        "    if (step % 500 == 0):\n",
        "      print(\"Minibatch loss at step %d: %f\" % (step, l))\n",
        "      print(\"Minibatch accuracy: %.1f%%\" % accuracy(predictions, batch_labels))\n",
        "      print(\"Validation accuracy: %.1f%%\" % accuracy(\n",
        "        valid_prediction.eval(), valid_labels))\n",
        "  print(\"Test accuracy: %.1f%%\" % accuracy(test_prediction.eval(),\n",
        "                                           test_labels))"
      ],
      "execution_count": 42,
      "outputs": [
        {
          "output_type": "stream",
          "text": [
            "Initialized\n",
            "Minibatch loss at step 0: 371.414795\n",
            "Minibatch accuracy: 13.3%\n",
            "Validation accuracy: 30.7%\n",
            "Minibatch loss at step 500: 15.872331\n",
            "Minibatch accuracy: 85.2%\n",
            "Validation accuracy: 80.1%\n",
            "Minibatch loss at step 1000: 7.553767\n",
            "Minibatch accuracy: 78.1%\n",
            "Validation accuracy: 81.3%\n",
            "Minibatch loss at step 1500: 12.143724\n",
            "Minibatch accuracy: 83.6%\n",
            "Validation accuracy: 79.5%\n",
            "Minibatch loss at step 2000: 1.775827\n",
            "Minibatch accuracy: 84.4%\n",
            "Validation accuracy: 82.5%\n",
            "Minibatch loss at step 2500: 10.847656\n",
            "Minibatch accuracy: 82.8%\n",
            "Validation accuracy: 82.8%\n",
            "Minibatch loss at step 3000: 4.382936\n",
            "Minibatch accuracy: 81.2%\n",
            "Validation accuracy: 81.5%\n",
            "Test accuracy: 87.8%\n"
          ],
          "name": "stdout"
        }
      ]
    },
    {
      "metadata": {
        "id": "jNjTqF1PHcu2",
        "colab_type": "code",
        "colab": {}
      },
      "cell_type": "code",
      "source": [
        ""
      ],
      "execution_count": 0,
      "outputs": []
    }
  ]
}
